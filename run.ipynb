{
 "cells": [
  {
   "cell_type": "code",
   "execution_count": 85,
   "metadata": {},
   "outputs": [],
   "source": [
    "import pandas as pd\n",
    "from flask import Flask, request, jsonify\n",
    "from apriori_python import apriori\n",
    "import warnings\n",
    "from flask_ngrok import run_with_ngrok"
   ]
  },
  {
   "cell_type": "code",
   "execution_count": 86,
   "metadata": {},
   "outputs": [],
   "source": [
    "warnings.filterwarnings('ignore')"
   ]
  },
  {
   "cell_type": "code",
   "execution_count": 87,
   "metadata": {},
   "outputs": [],
   "source": [
    "app = Flask(__name__)"
   ]
  },
  {
   "cell_type": "code",
   "execution_count": 88,
   "metadata": {},
   "outputs": [],
   "source": [
    "run_with_ngrok(app)"
   ]
  },
  {
   "cell_type": "code",
   "execution_count": 89,
   "metadata": {},
   "outputs": [],
   "source": [
    "\n",
    "df = pd.read_csv('data1.csv', encoding='unicode_escape')\n",
    "df.rename(columns={\n",
    "    \"InvoiceNo\": \"invoice_num\",\n",
    "    \"StockCode\": \"stock_code\",\n",
    "    \"Description\": \"description\",\n",
    "    \"Quantity\": \"quantity\",\n",
    "    \"InvoiceDate\": \"invoice_date\",\n",
    "    \"UnitPrice\": \"unit_price\",\n",
    "    \"CustomerID\": \"customer_id\",\n",
    "    \"Country\": \"country\"\n",
    "}, inplace=True)\n",
    "\n",
    "df['invoice_date'] = pd.to_datetime(df['invoice_date'], format='%m/%d/%Y %H:%M')\n",
    "df['description'] = df['description'].str.lower()\n",
    "df.dropna(inplace=True)\n",
    "df.drop_duplicates(inplace=True)\n",
    "df = df[df['quantity'] > 0]"
   ]
  },
  {
   "cell_type": "code",
   "execution_count": 90,
   "metadata": {},
   "outputs": [],
   "source": [
    "transactions = df.groupby('invoice_num')['description'].apply(set).tolist()"
   ]
  },
  {
   "cell_type": "code",
   "execution_count": 91,
   "metadata": {},
   "outputs": [],
   "source": [
    "min_support = 0.05\n",
    "min_confidence = 0.1"
   ]
  },
  {
   "cell_type": "code",
   "execution_count": 92,
   "metadata": {},
   "outputs": [],
   "source": [
    "freq_itemsets, rules = apriori(transactions, minSup=min_support, minConf=min_confidence)\n"
   ]
  },
  {
   "cell_type": "code",
   "execution_count": 93,
   "metadata": {},
   "outputs": [],
   "source": [
    "indices = {item.lower().strip(): idx for idx, item in enumerate(df['description'].unique())}\n"
   ]
  },
  {
   "cell_type": "code",
   "execution_count": 94,
   "metadata": {},
   "outputs": [],
   "source": [
    "rule_map = {}\n",
    "for rule in rules:\n",
    "    for item in rule[0]:  # For each item in the antecedent\n",
    "        if item not in rule_map:\n",
    "            rule_map[item] = []\n",
    "        rule_map[item].append(rule)"
   ]
  },
  {
   "cell_type": "code",
   "execution_count": 95,
   "metadata": {},
   "outputs": [],
   "source": [
    "@app.route('/recommend', methods=['POST'])\n",
    "def recommend():\n",
    "    try:\n",
    "        \n",
    "        input_product = request.json.get('product')\n",
    "        \n",
    "        if not input_product:\n",
    "            return jsonify({'error': 'Please provide a valid product description.'}), 400\n",
    "\n",
    "        \n",
    "        input_product_normalized = input_product.lower().strip()\n",
    "\n",
    "       \n",
    "        if input_product_normalized not in indices:\n",
    "            return jsonify({'error': 'Product not found in the dataset.'}), 404\n",
    "\n",
    "        \n",
    "        idx = indices[input_product_normalized]\n",
    "\n",
    "        \n",
    "        recommendations = set()\n",
    "\n",
    "       \n",
    "        for rule in rules:\n",
    "            if set(rule[0]).issubset([input_product_normalized]) and not set(rule[1]).intersection([input_product_normalized]):\n",
    "                recommendations.update(rule[1])\n",
    "\n",
    "        return jsonify({\n",
    "            'input_product': input_product,\n",
    "            'recommendations': list(recommendations)\n",
    "        }), 200\n",
    "\n",
    "    except Exception as e:\n",
    "        return jsonify({\n",
    "            'error': 'An error occurred while processing your request.',\n",
    "            'details': str(e)\n",
    "        }), 500"
   ]
  },
  {
   "cell_type": "code",
   "execution_count": 96,
   "metadata": {},
   "outputs": [
    {
     "name": "stdout",
     "output_type": "stream",
     "text": [
      " * Serving Flask app '__main__'\n",
      " * Debug mode: off\n"
     ]
    },
    {
     "name": "stderr",
     "output_type": "stream",
     "text": [
      "WARNING: This is a development server. Do not use it in a production deployment. Use a production WSGI server instead.\n",
      " * Running on http://127.0.0.1:5000\n",
      "Press CTRL+C to quit\n"
     ]
    },
    {
     "name": "stdout",
     "output_type": "stream",
     "text": [
      " * Running on http://d7cd-110-227-212-246.ngrok-free.app\n",
      " * Traffic stats available on http://127.0.0.1:4040\n"
     ]
    },
    {
     "name": "stderr",
     "output_type": "stream",
     "text": [
      "127.0.0.1 - - [18/Dec/2024 18:15:19] \"POST /recommend HTTP/1.1\" 200 -\n"
     ]
    }
   ],
   "source": [
    "if __name__ == '__main__':\n",
    "    app.run()"
   ]
  }
 ],
 "metadata": {
  "kernelspec": {
   "display_name": "Python 3",
   "language": "python",
   "name": "python3"
  },
  "language_info": {
   "codemirror_mode": {
    "name": "ipython",
    "version": 3
   },
   "file_extension": ".py",
   "mimetype": "text/x-python",
   "name": "python",
   "nbconvert_exporter": "python",
   "pygments_lexer": "ipython3",
   "version": "3.8.10"
  }
 },
 "nbformat": 4,
 "nbformat_minor": 2
}
